{
 "cells": [
  {
   "cell_type": "code",
   "execution_count": 202,
   "metadata": {},
   "outputs": [],
   "source": [
    "def convert(Str):\n",
    "    class TreeNode:\n",
    "        def __init__(self,x):\n",
    "            self.val=x\n",
    "            self.left,self.right=None,None\n",
    "        def add(self,x):\n",
    "            if x>self.val:\n",
    "                if self.right!=None:\n",
    "                    self.right.add(x)\n",
    "                else:\n",
    "                    self.right = TreeNode(x)\n",
    "            else:\n",
    "                if self.left!=None:\n",
    "                    self.left.add(x)\n",
    "                else:\n",
    "                    self.left = TreeNode(x) \n",
    "\n",
    "\n",
    "    listS=Str.split(\" \")\n",
    "    for i in range(len(listS)):\n",
    "        listS[i]=int(listS[i])\n",
    "    root=listS[0]\n",
    "    t=TreeNode(root)\n",
    "    for x in listS[1:]:\n",
    "        t.add(x)\n",
    "\n",
    "\n",
    "    '''\n",
    "    The question is similar to leetcode 606\n",
    "    code from\n",
    "    https://www.polarxiong.com/archives/LeetCode-606-construct-string-from-binary-tree.html\n",
    "    with some change\n",
    "    '''\n",
    "    class Solution:\n",
    "        def tree2str(self, t):\n",
    "            \"\"\"\n",
    "            :type t: TreeNode\n",
    "            :rtype: str\n",
    "            \"\"\"\n",
    "            if not t:\n",
    "                return ''\n",
    "            if not t.left and not t.right:\n",
    "                return str(t.val)\n",
    "            if not t.left:\n",
    "                return str(t.val) + '(' + '- ' + self.tree2str(t.right) + ')'\n",
    "            if not t.right:\n",
    "                return str(t.val) + '(' + self.tree2str(t.left) + ' -)'\n",
    "            else:\n",
    "                if not t.left.left and not t.left.right:\n",
    "                    return str(t.val) + '(' + self.tree2str(t.left)+' '+self.tree2str(t.right) + ')'\n",
    "                else:\n",
    "                    return str(t.val) + '(' + self.tree2str(t.left)+self.tree2str(t.right) + ')'\n",
    "\n",
    "    sol=Solution()\n",
    "    return sol.tree2str(t)"
   ]
  },
  {
   "cell_type": "code",
   "execution_count": 256,
   "metadata": {},
   "outputs": [],
   "source": [
    "fout=open(\"output.txt\",'w')\n",
    "fin=open('input.txt','r')\n",
    "\n",
    "line=fin.readline()\n",
    "\n",
    "while line:\n",
    "    line=\" \".join(line.split())\n",
    "    output=convert(line)\n",
    "    fout.write(output)\n",
    "    fout.write('\\n')\n",
    "    line=fin.readline()\n",
    "\n",
    "fin.close()\n",
    "fout.close()"
   ]
  },
  {
   "cell_type": "code",
   "execution_count": 258,
   "metadata": {},
   "outputs": [
    {
     "data": {
      "text/plain": [
       "'12(- 15(- 76(23 99)))'"
      ]
     },
     "execution_count": 258,
     "metadata": {},
     "output_type": "execute_result"
    }
   ],
   "source": [
    "convert('12 15 76 23 99')"
   ]
  },
  {
   "cell_type": "code",
   "execution_count": null,
   "metadata": {},
   "outputs": [],
   "source": []
  }
 ],
 "metadata": {
  "kernelspec": {
   "display_name": "Python 3",
   "language": "python",
   "name": "python3"
  },
  "language_info": {
   "codemirror_mode": {
    "name": "ipython",
    "version": 3
   },
   "file_extension": ".py",
   "mimetype": "text/x-python",
   "name": "python",
   "nbconvert_exporter": "python",
   "pygments_lexer": "ipython3",
   "version": "3.7.3"
  }
 },
 "nbformat": 4,
 "nbformat_minor": 2
}
