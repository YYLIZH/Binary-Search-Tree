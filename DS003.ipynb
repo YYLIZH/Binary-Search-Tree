{
 "cells": [
  {
   "cell_type": "code",
   "execution_count": 6,
   "metadata": {},
   "outputs": [],
   "source": [
    "class TreeNode:\n",
    "    def __init__(self,x):\n",
    "        self.val=x\n",
    "        self.left=None\n",
    "        self.right=None\n",
    "        \n",
    "    def add(self,x):\n",
    "            if x>self.val:\n",
    "                if self.right!=None:\n",
    "                    self.right.add(x)\n",
    "                else:\n",
    "                    self.right = TreeNode(x)\n",
    "            else:\n",
    "                if self.left!=None:\n",
    "                    self.left.add(x)\n",
    "                else:\n",
    "                    self.left = TreeNode(x)         "
   ]
  },
  {
   "cell_type": "code",
   "execution_count": 7,
   "metadata": {},
   "outputs": [],
   "source": [
    "class printleft():\n",
    "    def levelOrder(root):\n",
    "            result=[]\n",
    "            queue=[]\n",
    "            if root:\n",
    "                queue.append(root)\n",
    "            while len(queue)!=0:\n",
    "                layer=[]\n",
    "                for _ in range(len(queue)):\n",
    "                    x=queue.pop(0)\n",
    "                    layer.append(x.val)\n",
    "                    if x.left:\n",
    "                        queue.append(x.left)\n",
    "                    if x.right:\n",
    "                        queue.append(x.right)\n",
    "                result.append(layer)     \n",
    "            return result\n",
    "    \n",
    "    def printleftB(levelord):\n",
    "        leftB=[]\n",
    "        for level in levelord:\n",
    "            if len(level)>0:\n",
    "                leftB.append(str(level[0]))\n",
    "            else:\n",
    "                leftB.append(str(level))\n",
    "        leftB=' '.join(leftB)\n",
    "        return leftB"
   ]
  },
  {
   "cell_type": "code",
   "execution_count": 8,
   "metadata": {},
   "outputs": [],
   "source": [
    "Str='12 15 76 23 99'"
   ]
  },
  {
   "cell_type": "code",
   "execution_count": 9,
   "metadata": {},
   "outputs": [
    {
     "data": {
      "text/plain": [
       "'12 15 76 23'"
      ]
     },
     "execution_count": 9,
     "metadata": {},
     "output_type": "execute_result"
    }
   ],
   "source": [
    "listS=Str.split(\" \")\n",
    "for i in range(len(listS)):\n",
    "    listS[i]=int(listS[i])\n",
    "root=listS[0]\n",
    "t=TreeNode(root)\n",
    "for x in listS[1:]:\n",
    "    t.add(x)\n",
    "\n",
    "result=printleft.levelOrder(t)\n",
    "\n",
    "printleft.printleftB(result)"
   ]
  },
  {
   "cell_type": "code",
   "execution_count": null,
   "metadata": {},
   "outputs": [],
   "source": []
  }
 ],
 "metadata": {
  "kernelspec": {
   "display_name": "Python 3",
   "language": "python",
   "name": "python3"
  },
  "language_info": {
   "codemirror_mode": {
    "name": "ipython",
    "version": 3
   },
   "file_extension": ".py",
   "mimetype": "text/x-python",
   "name": "python",
   "nbconvert_exporter": "python",
   "pygments_lexer": "ipython3",
   "version": "3.7.1"
  }
 },
 "nbformat": 4,
 "nbformat_minor": 2
}
